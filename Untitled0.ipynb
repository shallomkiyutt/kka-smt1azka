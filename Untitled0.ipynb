{
  "nbformat": 4,
  "nbformat_minor": 0,
  "metadata": {
    "colab": {
      "provenance": [],
      "authorship_tag": "ABX9TyMQPM4r0ZmK7J58rw2ztFxc",
      "include_colab_link": true
    },
    "kernelspec": {
      "name": "python3",
      "display_name": "Python 3"
    },
    "language_info": {
      "name": "python"
    }
  },
  "cells": [
    {
      "cell_type": "markdown",
      "metadata": {
        "id": "view-in-github",
        "colab_type": "text"
      },
      "source": [
        "<a href=\"https://colab.research.google.com/github/shallomkiyutt/kka-smt1azka/blob/main/Untitled0.ipynb\" target=\"_parent\"><img src=\"https://colab.research.google.com/assets/colab-badge.svg\" alt=\"Open In Colab\"/></a>"
      ]
    },
    {
      "cell_type": "markdown",
      "source": [
        "#Aplikasi sederhana menghitung volume"
      ],
      "metadata": {
        "id": "5WjriYODgMmT"
      }
    },
    {
      "cell_type": "markdown",
      "source": [
        "nama:azka shivlya alva shallom\n",
        "kelas:xi.1\n",
        "no.absen:06\n",
        "nama kelompok: ham"
      ],
      "metadata": {
        "id": "61VpUIrnhcBB"
      }
    },
    {
      "cell_type": "code",
      "execution_count": null,
      "metadata": {
        "colab": {
          "base_uri": "https://localhost:8080/"
        },
        "id": "vvB_2X-ZgHhF",
        "outputId": "d53344fb-b2b8-4199-c2ad-02dfb01c0a3a"
      },
      "outputs": [
        {
          "output_type": "stream",
          "name": "stdout",
          "text": [
            "Masukkan panjang alas segitiga (cm): 67\n",
            "Masukkan tinggi segitiga (cm): 50\n",
            "Masukkan tinggi prisma (cm): 70\n",
            "Volume prisma segitiga adalah: 117250.0 cm³\n"
          ]
        }
      ],
      "source": [
        "alas = float(input(\"Masukkan panjang alas segitiga (cm): \"))\n",
        "tinggi_segitiga = float(input(\"Masukkan tinggi segitiga (cm): \"))\n",
        "tinggi_prisma = float(input(\"Masukkan tinggi prisma (cm): \"))\n",
        "\n",
        "volume = 0.5 * alas * tinggi_segitiga * tinggi_prisma\n",
        "\n",
        "print(f\"Volume prisma segitiga adalah: {volume} cm³\")"
      ]
    }
  ]
}